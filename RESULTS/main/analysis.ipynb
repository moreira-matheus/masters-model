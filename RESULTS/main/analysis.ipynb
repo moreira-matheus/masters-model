{
 "cells": [
  {
   "cell_type": "code",
   "execution_count": 1,
   "metadata": {},
   "outputs": [],
   "source": [
    "import os\n",
    "import numpy as np\n",
    "import pandas as pd\n",
    "from scipy.stats import chi2, friedmanchisquare, wilcoxon, norm"
   ]
  },
  {
   "cell_type": "code",
   "execution_count": 2,
   "metadata": {},
   "outputs": [],
   "source": [
    "folder = './res/'"
   ]
  },
  {
   "cell_type": "code",
   "execution_count": 3,
   "metadata": {},
   "outputs": [],
   "source": [
    "filenames = [filename for filename in os.listdir(folder) if filename.endswith('.csv')]"
   ]
  },
  {
   "cell_type": "code",
   "execution_count": 10,
   "metadata": {},
   "outputs": [],
   "source": [
    "cols = ['alpha','x_min','gini','mean','btm','top','gdp']"
   ]
  },
  {
   "cell_type": "code",
   "execution_count": 11,
   "metadata": {},
   "outputs": [],
   "source": [
    "dfs = [pd.read_csv(folder+filename,usecols=cols) for filename in filenames]"
   ]
  },
  {
   "cell_type": "code",
   "execution_count": 13,
   "metadata": {},
   "outputs": [],
   "source": [
    "for df in dfs:\n",
    "    df['btm'] = df['btm']/df['gdp']\n",
    "    df['top'] = df['top']/df['gdp']"
   ]
  },
  {
   "cell_type": "code",
   "execution_count": 14,
   "metadata": {},
   "outputs": [],
   "source": [
    "df = 2\n",
    "alpha = 0.01"
   ]
  },
  {
   "cell_type": "markdown",
   "metadata": {},
   "source": [
    "# Friedman test"
   ]
  },
  {
   "cell_type": "code",
   "execution_count": 16,
   "metadata": {},
   "outputs": [
    {
     "name": "stdout",
     "output_type": "stream",
     "text": [
      "Alpha\n",
      "\n",
      "Q test:  200.0\n",
      "P-value:  3.7200759760208177e-44\n",
      "Q critical:  9.21034037197618\n",
      "Reject.\n",
      "\n",
      "-------------------------\n",
      "X_min\n",
      "\n",
      "Q test:  200.0\n",
      "P-value:  3.7200759760208177e-44\n",
      "Q critical:  9.21034037197618\n",
      "Reject.\n",
      "\n",
      "-------------------------\n",
      "Gini\n",
      "\n",
      "Q test:  200.0\n",
      "P-value:  3.7200759760208177e-44\n",
      "Q critical:  9.21034037197618\n",
      "Reject.\n",
      "\n",
      "-------------------------\n",
      "Mean\n",
      "\n",
      "Q test:  200.0\n",
      "P-value:  3.7200759760208177e-44\n",
      "Q critical:  9.21034037197618\n",
      "Reject.\n",
      "\n",
      "-------------------------\n",
      "Btm\n",
      "\n",
      "Q test:  200.0\n",
      "P-value:  3.7200759760208177e-44\n",
      "Q critical:  9.21034037197618\n",
      "Reject.\n",
      "\n",
      "-------------------------\n",
      "Top\n",
      "\n",
      "Q test:  194.18000000000006\n",
      "P-value:  6.828868534581509e-43\n",
      "Q critical:  9.21034037197618\n",
      "Reject.\n",
      "\n",
      "-------------------------\n"
     ]
    }
   ],
   "source": [
    "for col in cols[:-1]:\n",
    "    print(col.capitalize()+'\\n')\n",
    "    q_test, pval = friedmanchisquare(dfs[0][col],dfs[1][col],dfs[2][col])\n",
    "    print('Q test: ', q_test)\n",
    "    print('P-value: ', pval)\n",
    "    q_crit = chi2.ppf(1-alpha,df)\n",
    "    print('Q critical: ', q_crit)\n",
    "    if q_test > q_crit:\n",
    "        print('Reject.')\n",
    "    else:\n",
    "        print('FAILED!')\n",
    "    print('\\n'+'-'*25)"
   ]
  },
  {
   "cell_type": "code",
   "execution_count": 17,
   "metadata": {},
   "outputs": [],
   "source": [
    "def wilcoxon_z_score(sample_size,ranks_sum):\n",
    "    x_bar = sample_size*(sample_size+1)/4\n",
    "    std_dev = np.sqrt((sample_size*(sample_size+1)*(2*sample_size+1))/24.)\n",
    "    return (ranks_sum-x_bar)/std_dev"
   ]
  },
  {
   "cell_type": "code",
   "execution_count": 18,
   "metadata": {},
   "outputs": [],
   "source": [
    "alpha_B = alpha/3."
   ]
  },
  {
   "cell_type": "markdown",
   "metadata": {},
   "source": [
    "# Wilcoxon test"
   ]
  },
  {
   "cell_type": "code",
   "execution_count": 22,
   "metadata": {},
   "outputs": [
    {
     "name": "stdout",
     "output_type": "stream",
     "text": [
      "Alpha\n",
      "\n",
      "T1 x C\n",
      "Ranks sum:  0.0\n",
      "P-value:  3.896559845095909e-18\n",
      "Z-score:  -8.681770230106196\n",
      "Z critical (abs):  2.935199468866699\n",
      "Effect size:  0.8681770230106196\n",
      "\n",
      "T2 x C\n",
      "Ranks sum:  0.0\n",
      "P-value:  3.896559845095909e-18\n",
      "Z-score:  -8.681770230106196\n",
      "Z critical (abs):  2.935199468866699\n",
      "Effect size:  0.8681770230106196\n",
      "\n",
      "T2 x T1\n",
      "Ranks sum:  0.0\n",
      "P-value:  3.896559845095909e-18\n",
      "Z-score:  -8.681770230106196\n",
      "Z critical (abs):  2.935199468866699\n",
      "Effect size:  0.8681770230106196\n",
      "\n",
      "-------------------------\n",
      "X_min\n",
      "\n",
      "T1 x C\n",
      "Ranks sum:  0.0\n",
      "P-value:  3.896559845095909e-18\n",
      "Z-score:  -8.681770230106196\n",
      "Z critical (abs):  2.935199468866699\n",
      "Effect size:  0.8681770230106196\n",
      "\n",
      "T2 x C\n",
      "Ranks sum:  0.0\n",
      "P-value:  3.896559845095909e-18\n",
      "Z-score:  -8.681770230106196\n",
      "Z critical (abs):  2.935199468866699\n",
      "Effect size:  0.8681770230106196\n",
      "\n",
      "T2 x T1\n",
      "Ranks sum:  0.0\n",
      "P-value:  3.896559845095909e-18\n",
      "Z-score:  -8.681770230106196\n",
      "Z critical (abs):  2.935199468866699\n",
      "Effect size:  0.8681770230106196\n",
      "\n",
      "-------------------------\n",
      "Gini\n",
      "\n",
      "T1 x C\n",
      "Ranks sum:  0.0\n",
      "P-value:  3.896559845095909e-18\n",
      "Z-score:  -8.681770230106196\n",
      "Z critical (abs):  2.935199468866699\n",
      "Effect size:  0.8681770230106196\n",
      "\n",
      "T2 x C\n",
      "Ranks sum:  0.0\n",
      "P-value:  3.896559845095909e-18\n",
      "Z-score:  -8.681770230106196\n",
      "Z critical (abs):  2.935199468866699\n",
      "Effect size:  0.8681770230106196\n",
      "\n",
      "T2 x T1\n",
      "Ranks sum:  0.0\n",
      "P-value:  3.896559845095909e-18\n",
      "Z-score:  -8.681770230106196\n",
      "Z critical (abs):  2.935199468866699\n",
      "Effect size:  0.8681770230106196\n",
      "\n",
      "-------------------------\n",
      "Mean\n",
      "\n",
      "T1 x C\n",
      "Ranks sum:  0.0\n",
      "P-value:  3.896559845095909e-18\n",
      "Z-score:  -8.681770230106196\n",
      "Z critical (abs):  2.935199468866699\n",
      "Effect size:  0.8681770230106196\n",
      "\n",
      "T2 x C\n",
      "Ranks sum:  0.0\n",
      "P-value:  3.896559845095909e-18\n",
      "Z-score:  -8.681770230106196\n",
      "Z critical (abs):  2.935199468866699\n",
      "Effect size:  0.8681770230106196\n",
      "\n",
      "T2 x T1\n",
      "Ranks sum:  0.0\n",
      "P-value:  3.896559845095909e-18\n",
      "Z-score:  -8.681770230106196\n",
      "Z critical (abs):  2.935199468866699\n",
      "Effect size:  0.8681770230106196\n",
      "\n",
      "-------------------------\n",
      "Btm\n",
      "\n",
      "T1 x C\n",
      "Ranks sum:  0.0\n",
      "P-value:  3.896559845095909e-18\n",
      "Z-score:  -8.681770230106196\n",
      "Z critical (abs):  2.935199468866699\n",
      "Effect size:  0.8681770230106196\n",
      "\n",
      "T2 x C\n",
      "Ranks sum:  0.0\n",
      "P-value:  3.896559845095909e-18\n",
      "Z-score:  -8.681770230106196\n",
      "Z critical (abs):  2.935199468866699\n",
      "Effect size:  0.8681770230106196\n",
      "\n",
      "T2 x T1\n",
      "Ranks sum:  0.0\n",
      "P-value:  3.896559845095909e-18\n",
      "Z-score:  -8.681770230106196\n",
      "Z critical (abs):  2.935199468866699\n",
      "Effect size:  0.8681770230106196\n",
      "\n",
      "-------------------------\n",
      "Top\n",
      "\n",
      "T1 x C\n",
      "Ranks sum:  12.0\n",
      "P-value:  5.596247901468035e-18\n",
      "Z-score:  -8.640510331982918\n",
      "Z critical (abs):  2.935199468866699\n",
      "Effect size:  0.8640510331982918\n",
      "\n",
      "T2 x C\n",
      "Ranks sum:  0.0\n",
      "P-value:  3.896559845095909e-18\n",
      "Z-score:  -8.681770230106196\n",
      "Z critical (abs):  2.935199468866699\n",
      "Effect size:  0.8681770230106196\n",
      "\n",
      "T2 x T1\n",
      "Ranks sum:  0.0\n",
      "P-value:  3.896559845095909e-18\n",
      "Z-score:  -8.681770230106196\n",
      "Z critical (abs):  2.935199468866699\n",
      "Effect size:  0.8681770230106196\n",
      "\n",
      "-------------------------\n"
     ]
    }
   ],
   "source": [
    "for col in cols[:-1]:\n",
    "    print(col.capitalize())\n",
    "\n",
    "    print('\\nT1 x C')\n",
    "    ranks_sum, pval = wilcoxon(dfs[1][col],dfs[0][col],zero_method='pratt')\n",
    "    print('Ranks sum: ', ranks_sum)\n",
    "    print('P-value: ',pval)\n",
    "    z_score = wilcoxon_z_score(len(dfs[0][col]),ranks_sum)\n",
    "    print('Z-score: ', z_score)\n",
    "    z_crit = norm.ppf(1.-alpha_B/2.)\n",
    "    print('Z critical (abs): ',z_crit)\n",
    "    effect_size = abs(z_score)/np.sqrt(len(dfs[0][col]))\n",
    "    print('Effect size: ',effect_size)\n",
    "\n",
    "    print('\\nT2 x C')\n",
    "    ranks_sum, pval = wilcoxon(dfs[2][col],dfs[0][col],zero_method='pratt')\n",
    "    print('Ranks sum: ', ranks_sum)\n",
    "    print('P-value: ',pval)\n",
    "    z_score = wilcoxon_z_score(len(dfs[0][col]),ranks_sum)\n",
    "    print('Z-score: ', z_score)\n",
    "    z_crit = norm.ppf(1.-alpha_B/2.)\n",
    "    print('Z critical (abs): ',z_crit)\n",
    "    effect_size = abs(z_score)/np.sqrt(len(dfs[0][col]))\n",
    "    print('Effect size: ',effect_size)\n",
    "    \n",
    "    print('\\nT2 x T1')\n",
    "    ranks_sum, pval = wilcoxon(dfs[2][col],dfs[1][col],zero_method='pratt')\n",
    "    print('Ranks sum: ', ranks_sum)\n",
    "    print('P-value: ',pval)\n",
    "    z_score = wilcoxon_z_score(len(dfs[0][col]),ranks_sum)\n",
    "    print('Z-score: ', z_score)\n",
    "    z_crit = norm.ppf(1.-alpha_B/2.)\n",
    "    print('Z critical (abs): ',z_crit)\n",
    "    effect_size = abs(z_score)/np.sqrt(len(dfs[0][col]))\n",
    "    print('Effect size: ',effect_size)\n",
    "\n",
    "    print('\\n'+'-'*25)"
   ]
  },
  {
   "cell_type": "code",
   "execution_count": null,
   "metadata": {},
   "outputs": [],
   "source": []
  },
  {
   "cell_type": "code",
   "execution_count": 21,
   "metadata": {},
   "outputs": [
    {
     "data": {
      "text/plain": [
       "0.0016666666666666668"
      ]
     },
     "execution_count": 21,
     "metadata": {},
     "output_type": "execute_result"
    }
   ],
   "source": [
    "alpha_B/2"
   ]
  },
  {
   "cell_type": "code",
   "execution_count": null,
   "metadata": {},
   "outputs": [],
   "source": []
  },
  {
   "cell_type": "code",
   "execution_count": null,
   "metadata": {},
   "outputs": [],
   "source": []
  },
  {
   "cell_type": "code",
   "execution_count": null,
   "metadata": {},
   "outputs": [],
   "source": []
  },
  {
   "cell_type": "code",
   "execution_count": null,
   "metadata": {},
   "outputs": [],
   "source": []
  },
  {
   "cell_type": "code",
   "execution_count": null,
   "metadata": {},
   "outputs": [],
   "source": []
  }
 ],
 "metadata": {
  "kernelspec": {
   "display_name": "Python 3",
   "language": "python",
   "name": "python3"
  },
  "language_info": {
   "codemirror_mode": {
    "name": "ipython",
    "version": 3
   },
   "file_extension": ".py",
   "mimetype": "text/x-python",
   "name": "python",
   "nbconvert_exporter": "python",
   "pygments_lexer": "ipython3",
   "version": "3.7.3"
  }
 },
 "nbformat": 4,
 "nbformat_minor": 2
}
