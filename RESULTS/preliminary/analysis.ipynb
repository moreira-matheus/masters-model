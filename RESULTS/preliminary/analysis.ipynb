{
 "cells": [
  {
   "cell_type": "code",
   "execution_count": 45,
   "metadata": {},
   "outputs": [],
   "source": [
    "import os\n",
    "import matplotlib.pyplot as plt\n",
    "import pandas as pd\n",
    "import numpy as np\n",
    "from scipy.stats import t, ttest_ind\n",
    "%matplotlib inline"
   ]
  },
  {
   "cell_type": "code",
   "execution_count": 46,
   "metadata": {},
   "outputs": [],
   "source": [
    "actual = pd.read_csv('gini_1976_2014.csv',skiprows=1,usecols=range(3,37)).to_numpy()[0]"
   ]
  },
  {
   "cell_type": "code",
   "execution_count": 47,
   "metadata": {},
   "outputs": [],
   "source": [
    "folder = './res/'"
   ]
  },
  {
   "cell_type": "code",
   "execution_count": 48,
   "metadata": {},
   "outputs": [],
   "source": [
    "filenames = [filename for filename in os.listdir(folder) if filename.endswith('.csv')]"
   ]
  },
  {
   "cell_type": "code",
   "execution_count": 49,
   "metadata": {},
   "outputs": [],
   "source": [
    "sims = [pd.read_csv(folder+filename)['gini'].to_numpy() for filename in filenames]"
   ]
  },
  {
   "cell_type": "code",
   "execution_count": 50,
   "metadata": {},
   "outputs": [],
   "source": [
    "biases = [-1.0, -0.75, -0.5, -0.25, 0.0, 0.25, 0.5, 0.75, 1.0]"
   ]
  },
  {
   "cell_type": "code",
   "execution_count": 94,
   "metadata": {},
   "outputs": [],
   "source": [
    "# Calculating degrees of freedom\n",
    "def welch_satterthwaite(sample1, sample2):\n",
    "    n1, n2 = len(sample1), len(sample2)\n",
    "    s1, s2 = np.std(sample1,ddof=1), np.std(sample2,ddof=1)\n",
    "\n",
    "    num = ((s1**2)/n1 + (s2**2)/n2)**2\n",
    "    den = (s1**4)/(n1**3 - n1**2) + (s2**4)/(n2**3 - n2**2)\n",
    "    return num/den"
   ]
  },
  {
   "cell_type": "markdown",
   "metadata": {},
   "source": [
    "### Two-tailed t-test (Actual == Sims)"
   ]
  },
  {
   "cell_type": "code",
   "execution_count": 95,
   "metadata": {},
   "outputs": [],
   "source": [
    "alpha = 0.01"
   ]
  },
  {
   "cell_type": "code",
   "execution_count": 96,
   "metadata": {},
   "outputs": [
    {
     "name": "stdout",
     "output_type": "stream",
     "text": [
      "\n",
      "Bias:  -1.0\n",
      "\n",
      "T-test:\n",
      "\tDegrees of freedom:  48.4893392742597\n",
      "\tT critical:  2.6810899684288474\n",
      "\tT test:  9.096895503612014\n",
      "\tP-value:  4.6559438919661354e-12\n",
      "Reject?:  True\n",
      "-------------------------\n",
      "\n",
      "Bias:  -0.75\n",
      "\n",
      "T-test:\n",
      "\tDegrees of freedom:  46.12236381010334\n",
      "\tT critical:  2.6867067890311347\n",
      "\tT test:  6.574879189010737\n",
      "\tP-value:  3.9191468268966075e-08\n",
      "Reject?:  True\n",
      "-------------------------\n",
      "\n",
      "Bias:  -0.5\n",
      "\n",
      "T-test:\n",
      "\tDegrees of freedom:  46.574827108216816\n",
      "\tT critical:  2.685587238750447\n",
      "\tT test:  3.983248413756641\n",
      "\tP-value:  0.0002370647744803307\n",
      "Reject?:  True\n",
      "-------------------------\n",
      "\n",
      "Bias:  -0.25\n",
      "\n",
      "T-test:\n",
      "\tDegrees of freedom:  48.91950930559836\n",
      "\tT critical:  2.680129709328738\n",
      "\tT test:  1.097965542724659\n",
      "\tP-value:  0.2775944542685723\n",
      "Reject?:  False\n",
      "-------------------------\n",
      "\n",
      "Bias:  0.0\n",
      "\n",
      "T-test:\n",
      "\tDegrees of freedom:  52.15093961128722\n",
      "\tT critical:  2.6734403263677917\n",
      "\tT test:  -1.814024689226359\n",
      "\tP-value:  0.07542870856172579\n",
      "Reject?:  False\n",
      "-------------------------\n",
      "\n",
      "Bias:  0.25\n",
      "\n",
      "T-test:\n",
      "\tDegrees of freedom:  58.8408733471338\n",
      "\tT critical:  2.661998348705028\n",
      "\tT test:  -4.478144909450787\n",
      "\tP-value:  3.519760835181031e-05\n",
      "Reject?:  True\n",
      "-------------------------\n",
      "\n",
      "Bias:  0.5\n",
      "\n",
      "T-test:\n",
      "\tDegrees of freedom:  69.4761824453065\n",
      "\tT critical:  2.648462280279788\n",
      "\tT test:  -6.789337620273992\n",
      "\tP-value:  3.1097172780586933e-09\n",
      "Reject?:  True\n",
      "-------------------------\n",
      "\n",
      "Bias:  0.75\n",
      "\n",
      "T-test:\n",
      "\tDegrees of freedom:  77.85356015800303\n",
      "\tT critical:  2.6404641896713685\n",
      "\tT test:  -9.358025916031961\n",
      "\tP-value:  2.221122051020974e-14\n",
      "Reject?:  True\n",
      "-------------------------\n",
      "\n",
      "Bias:  1.0\n",
      "\n",
      "T-test:\n",
      "\tDegrees of freedom:  89.32239484015705\n",
      "\tT critical:  2.6319965766473765\n",
      "\tT test:  -11.244228933966648\n",
      "\tP-value:  8.56501337941033e-19\n",
      "Reject?:  True\n",
      "-------------------------\n"
     ]
    }
   ],
   "source": [
    "rejects = []\n",
    "\n",
    "for bias,sim in zip(biases,sims):\n",
    "    print('\\nBias: ', bias)\n",
    "    print('\\nT-test:')\n",
    "    df = welch_satterthwaite(actual,sim)\n",
    "    print('\\tDegrees of freedom: ',df)\n",
    "    t_crit = t.ppf(1-(alpha/2),df)\n",
    "    print('\\tT critical: ',t_crit)\n",
    "    t_test, pval = ttest_ind(actual,sim,equal_var=False)\n",
    "    print('\\tT test: ',t_test)\n",
    "    print('\\tP-value: ',pval)\n",
    "    rej = (abs(t_test) >= t_crit) and (pval < (alpha/2))\n",
    "    print('Reject?: ',rej)\n",
    "    rejects.append(rej)\n",
    "    print('-'*25)"
   ]
  },
  {
   "cell_type": "markdown",
   "metadata": {},
   "source": [
    "### One-tailed test (Sim4 <= Sim3)"
   ]
  },
  {
   "cell_type": "code",
   "execution_count": 97,
   "metadata": {},
   "outputs": [
    {
     "name": "stdout",
     "output_type": "stream",
     "text": [
      "df:  196.44549753428475\n",
      "T critical:  2.345479721443708\n"
     ]
    }
   ],
   "source": [
    "df = welch_satterthwaite(sims[4],sims[3])\n",
    "print('df: ',df)\n",
    "t_crit = t.ppf(1-alpha,df)\n",
    "print('T critical: ',t_crit)"
   ]
  },
  {
   "cell_type": "code",
   "execution_count": 98,
   "metadata": {},
   "outputs": [
    {
     "name": "stdout",
     "output_type": "stream",
     "text": [
      "T test:  4.611817365378075\n",
      "P-value:  7.1844539679185505e-06\n"
     ]
    }
   ],
   "source": [
    "t_test, pval = ttest_ind(sims[4],sims[3],equal_var=False)\n",
    "print('T test: ',t_test)\n",
    "print('P-value: ',pval)"
   ]
  },
  {
   "cell_type": "code",
   "execution_count": 99,
   "metadata": {},
   "outputs": [
    {
     "name": "stdout",
     "output_type": "stream",
     "text": [
      "Reject!\n"
     ]
    }
   ],
   "source": [
    "if (t_test >= t_crit) and (pval < alpha):\n",
    "    print('Reject!')\n",
    "else:\n",
    "    print('Failed to reject.')"
   ]
  },
  {
   "cell_type": "code",
   "execution_count": null,
   "metadata": {},
   "outputs": [],
   "source": []
  },
  {
   "cell_type": "code",
   "execution_count": null,
   "metadata": {},
   "outputs": [],
   "source": []
  },
  {
   "cell_type": "code",
   "execution_count": null,
   "metadata": {},
   "outputs": [],
   "source": []
  }
 ],
 "metadata": {
  "kernelspec": {
   "display_name": "Python 3",
   "language": "python",
   "name": "python3"
  },
  "language_info": {
   "codemirror_mode": {
    "name": "ipython",
    "version": 3
   },
   "file_extension": ".py",
   "mimetype": "text/x-python",
   "name": "python",
   "nbconvert_exporter": "python",
   "pygments_lexer": "ipython3",
   "version": "3.6.8"
  }
 },
 "nbformat": 4,
 "nbformat_minor": 2
}
